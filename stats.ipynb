{
  "nbformat": 4,
  "nbformat_minor": 0,
  "metadata": {
    "colab": {
      "provenance": [],
      "authorship_tag": "ABX9TyPH4WJCPjKyuEcqRM+cPF4X",
      "include_colab_link": true
    },
    "kernelspec": {
      "name": "python3",
      "display_name": "Python 3"
    },
    "language_info": {
      "name": "python"
    }
  },
  "cells": [
    {
      "cell_type": "markdown",
      "metadata": {
        "id": "view-in-github",
        "colab_type": "text"
      },
      "source": [
        "<a href=\"https://colab.research.google.com/github/kshitijrajsharma/osm2hdx/blob/main/Query_Raw_Data_API_s3_files_HDX.ipynb\" target=\"_parent\"><img src=\"https://colab.research.google.com/assets/colab-badge.svg\" alt=\"Open In Colab\"/></a>"
      ]
    },
    {
      "cell_type": "code",
      "execution_count": 1,
      "metadata": {
        "id": "YK0W34kLiJe5"
      },
      "outputs": [],
      "source": [
        "import requests\n",
        "import duckdb\n",
        "import json\n",
        "import humanize"
      ]
    },
    {
      "cell_type": "code",
      "source": [
        "FOLDER_PATH='HDX'\n",
        "BASE_API_URL='https://api-prod.raw-data.hotosm.org/v1'\n",
        "S3_API_URL = f'{BASE_API_URL}/s3/files/?folder={FOLDER_PATH}&prettify=false'"
      ],
      "metadata": {
        "id": "plvhnF5ziRDM"
      },
      "execution_count": 2,
      "outputs": []
    },
    {
      "cell_type": "code",
      "source": [
        "def stream(API_URL):\n",
        "    session = requests.Session()\n",
        "    request = session.get(S3_API_URL, stream=True)\n",
        "    return request.json()\n",
        "\n",
        "def get_project_info(key):\n",
        "  session = requests.Session()\n",
        "  request = session.get(f'{BASE_API_URL}/s3/get/{key}')\n",
        "  return request.json()\n"
      ],
      "metadata": {
        "id": "e6uRDff_izct"
      },
      "execution_count": 3,
      "outputs": []
    },
    {
      "cell_type": "code",
      "source": [
        "api_data = stream(S3_API_URL)\n",
        "with open ('stats.json','w') as file :\n",
        "  file.write(json.dumps(api_data))"
      ],
      "metadata": {
        "id": "8Ct8jHkqjDPQ"
      },
      "execution_count": 4,
      "outputs": []
    },
    {
      "cell_type": "code",
      "source": [
        "con = duckdb.connect()"
      ],
      "metadata": {
        "id": "PSuws8jKjE4Y"
      },
      "execution_count": 7,
      "outputs": []
    },
    {
      "cell_type": "code",
      "source": [
        "con.sql(\"CREATE TABLE stats AS SELECT * FROM read_json_auto('stats.json', format = 'array');\")"
      ],
      "metadata": {
        "id": "QWfOAmrirvjo"
      },
      "execution_count": 8,
      "outputs": []
    },
    {
      "cell_type": "code",
      "source": [
        "con.execute(\"\"\"ALTER TABLE stats ADD COLUMN dir VARCHAR\"\"\")\n",
        "con.execute(\"\"\"ALTER TABLE stats ADD COLUMN folder VARCHAR\"\"\")\n",
        "con.execute(\"\"\"ALTER TABLE stats ADD COLUMN category VARCHAR\"\"\")\n",
        "con.execute(\"\"\"ALTER TABLE stats ADD COLUMN geom_type VARCHAR\"\"\")"
      ],
      "metadata": {
        "colab": {
          "base_uri": "https://localhost:8080/"
        },
        "id": "NKjxe4Hfm_BU",
        "outputId": "b7fbc74b-655d-46ef-af4f-389554e4aa51"
      },
      "execution_count": 14,
      "outputs": [
        {
          "output_type": "execute_result",
          "data": {
            "text/plain": [
              "<duckdb.duckdb.DuckDBPyConnection at 0x7fce8819c2b0>"
            ]
          },
          "metadata": {},
          "execution_count": 14
        }
      ]
    },
    {
      "cell_type": "code",
      "source": [
        "con.execute(\"\"\"\n",
        "  UPDATE stats\n",
        "  SET\n",
        "    dir = SPLIT_PART(Key, '/', 1),\n",
        "    folder = SPLIT_PART(Key, '/', 2),\n",
        "    category = SPLIT_PART(Key, '/', 3),\n",
        "    geom_type = SPLIT_PART(Key, '/', 4)\n",
        "\"\"\")\n",
        "con.commit()"
      ],
      "metadata": {
        "colab": {
          "base_uri": "https://localhost:8080/"
        },
        "id": "YjWJMt6enAEg",
        "outputId": "2cd5ca53-970d-44fa-bebe-ff4151b974e8"
      },
      "execution_count": 15,
      "outputs": [
        {
          "output_type": "execute_result",
          "data": {
            "text/plain": [
              "<duckdb.duckdb.DuckDBPyConnection at 0x7fce8819c2b0>"
            ]
          },
          "metadata": {},
          "execution_count": 15
        }
      ]
    },
    {
      "cell_type": "code",
      "source": [
        "con.sql(\"\"\"  SELECT folder, MAX(LastModified) AS LatestLastModified\n",
        "  FROM stats\n",
        "  GROUP BY folder\n",
        "  ORDER BY LatestLastModified DESC \"\"\")"
      ],
      "metadata": {
        "colab": {
          "base_uri": "https://localhost:8080/"
        },
        "id": "L7THQkqsr1t3",
        "outputId": "affc7fd4-e62a-415a-fee0-29840792c8df"
      },
      "execution_count": 25,
      "outputs": [
        {
          "output_type": "execute_result",
          "data": {
            "text/plain": [
              "┌─────────┬─────────────────────┐\n",
              "│ folder  │ LatestLastModified  │\n",
              "│ varchar │      timestamp      │\n",
              "├─────────┼─────────────────────┤\n",
              "│ NPL     │ 2024-01-24 03:37:00 │\n",
              "│ VAT     │ 2024-01-24 01:42:28 │\n",
              "│ MCO     │ 2024-01-24 01:41:30 │\n",
              "│ SMR     │ 2024-01-24 01:40:37 │\n",
              "│ BVT     │ 2024-01-24 01:40:10 │\n",
              "│ BLM     │ 2024-01-24 01:39:39 │\n",
              "│ LIE     │ 2024-01-24 01:39:26 │\n",
              "│ SGP     │ 2024-01-24 01:38:46 │\n",
              "│ AND     │ 2024-01-24 01:38:23 │\n",
              "│ ABW     │ 2024-01-24 01:37:17 │\n",
              "│  ·      │          ·          │\n",
              "│  ·      │          ·          │\n",
              "│  ·      │          ·          │\n",
              "│ COD     │ 2024-01-23 08:21:24 │\n",
              "│ SAU     │ 2024-01-23 08:07:58 │\n",
              "│ PNG     │ 2024-01-23 08:01:49 │\n",
              "│ FSM     │ 2024-01-23 07:59:00 │\n",
              "│ KAZ     │ 2024-01-23 07:58:41 │\n",
              "│ ARG     │ 2024-01-23 07:58:06 │\n",
              "│ KIR     │ 2024-01-23 07:43:06 │\n",
              "│ ITA     │ 2024-01-15 08:24:11 │\n",
              "│ RUS     │ 2023-12-27 05:32:50 │\n",
              "│ FRA     │ 2023-12-25 17:27:04 │\n",
              "├─────────┴─────────────────────┤\n",
              "│      194 rows (20 shown)      │\n",
              "└───────────────────────────────┘"
            ]
          },
          "metadata": {},
          "execution_count": 25
        }
      ]
    },
    {
      "cell_type": "code",
      "source": [
        "# print(humanize.naturalsize(213754935))\n",
        "project=get_project_info('TM/hotosm_project_25/meta.json')\n",
        "print(json.dumps(project, indent=2))"
      ],
      "metadata": {
        "id": "ECBOA-i5sGfs"
      },
      "execution_count": null,
      "outputs": []
    },
    {
      "cell_type": "code",
      "source": [],
      "metadata": {
        "id": "_cqVPt_MnXvd"
      },
      "execution_count": null,
      "outputs": []
    }
  ]
}